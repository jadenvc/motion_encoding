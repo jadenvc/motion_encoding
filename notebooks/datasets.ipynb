{
 "cells": [
  {
   "cell_type": "code",
   "execution_count": 6,
   "id": "ff159255-8124-4f01-b340-32a98d91c6f2",
   "metadata": {},
   "outputs": [],
   "source": [
    "import argparse\n",
    "import numpy as np\n",
    "import random\n",
    "import sys\n",
    "sys.path.append('..')\n",
    "import time\n",
    "import shutil\n",
    "from importlib import import_module\n",
    "from numbers import Number\n",
    "\n",
    "from tqdm import tqdm\n",
    "import torch\n",
    "from torch.utils.data import Sampler, DataLoader\n",
    "import lanegcn"
   ]
  },
  {
   "cell_type": "code",
   "execution_count": 7,
   "id": "5f72d382-2647-4640-9c8b-b7d6ed0d42d8",
   "metadata": {},
   "outputs": [],
   "source": [
    "config, Dataset, collate_fn, net, loss, post_process, opt = lanegcn.get_model()"
   ]
  },
  {
   "cell_type": "code",
   "execution_count": null,
   "id": "79a82ffd-dc4b-47f8-8b81-4801adf5ee9b",
   "metadata": {},
   "outputs": [],
   "source": [
    "dataset = Dataset(config[\"train_split\"], config, train=True)\n",
    "train_sampler = DistributedSampler(\n",
    "    dataset, num_replicas=hvd.size(), rank=hvd.rank()\n",
    ")\n",
    "train_loader = DataLoader(\n",
    "    dataset,\n",
    "    batch_size=config[\"batch_size\"],\n",
    "    num_workers=config[\"workers\"],\n",
    "    sampler=train_sampler,\n",
    "    collate_fn=collate_fn,\n",
    "    pin_memory=True,\n",
    "    worker_init_fn=worker_init_fn,\n",
    "    drop_last=True,\n",
    ")"
   ]
  },
  {
   "cell_type": "code",
   "execution_count": null,
   "id": "5d051f57-b27d-4249-89b1-ba791f252eed",
   "metadata": {},
   "outputs": [],
   "source": []
  }
 ],
 "metadata": {
  "kernelspec": {
   "display_name": "Python 3 (ipykernel)",
   "language": "python",
   "name": "python3"
  },
  "language_info": {
   "codemirror_mode": {
    "name": "ipython",
    "version": 3
   },
   "file_extension": ".py",
   "mimetype": "text/x-python",
   "name": "python",
   "nbconvert_exporter": "python",
   "pygments_lexer": "ipython3",
   "version": "3.7.12"
  }
 },
 "nbformat": 4,
 "nbformat_minor": 5
}
